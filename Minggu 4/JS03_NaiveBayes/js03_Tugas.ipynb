{
 "cells": [
  {
   "cell_type": "markdown",
   "metadata": {},
   "source": [
    "# Tugas\n",
    "\n",
    "## Tugas 1\n",
    "\n",
    "Buatlah model klasfikasi Multinomial Naive Bayes dengan ketentuan,\n",
    "\n",
    "1. Menggunakan data `spam.csv`\n",
    "2. Fitur `CountVectorizer` dengan mengaktifkan **stop_words**\n",
    "3. Evaluasi hasilnya\n",
    "\n",
    "## Tugas 2\n",
    "\n",
    "Buatlah model klasfikasi Multinomial Naive Bayes dengan ketentuan,\n",
    "\n",
    "1. Menggunakan data `spam.csv`\n",
    "2. Fitur `TF-IDF` dengan mengaktifkan **stop_words**\n",
    "3. Evaluasi hasilnya dan bandingkan dengan hasil tugas 1.\n",
    "4. Berikan kesimpulan fitur mana yang terbaik pada kasus data `spam.csv`"
   ]
  },
  {
   "cell_type": "markdown",
   "metadata": {},
   "source": [
    "# Tugas 1"
   ]
  },
  {
   "cell_type": "code",
   "execution_count": 1,
   "metadata": {},
   "outputs": [
    {
     "name": "stdout",
     "output_type": "stream",
     "text": [
      "Hasil akurasi data train: 0.9946152120260264\n",
      "Hasil akurasi data test: 0.9829596412556054\n"
     ]
    }
   ],
   "source": [
    "import pandas as pd\n",
    "import numpy as np\n",
    "\n",
    "# Read the file spam.csv into a DataFrame df using the read_csv() function.\n",
    "\n",
    "df = pd.read_csv('spam.csv', encoding='latin-1')\n",
    "\n",
    "# drop the unnamed columns\n",
    "df = df.drop(df.iloc[:,2:], axis=1)\n",
    "\n",
    "df.columns = ['label', 'text']\n",
    "\n",
    "df.head()\n",
    "\n",
    "# Encode label to a numerical variable\n",
    "\n",
    "df['label'] = df['label'].map({'ham':0, 'spam':1})\n",
    "\n",
    "\n",
    "from sklearn.model_selection import train_test_split\n",
    "from sklearn.feature_extraction.text import CountVectorizer\n",
    "\n",
    "\n",
    "# Split label and data.\n",
    "X = df['text']\n",
    "y = df['label']\n",
    "\n",
    "X_train, X_test, y_train, y_test = train_test_split(X, y, test_size=0.2, random_state=50)\n",
    "\n",
    "bow = CountVectorizer(stop_words='english')\n",
    "\n",
    "X_train = bow.fit_transform(X_train)\n",
    "\n",
    "X_test = bow.transform(X_test)\n",
    "\n",
    "# train model \n",
    "\n",
    "from sklearn.naive_bayes import MultinomialNB\n",
    "from sklearn.metrics import accuracy_score\n",
    "\n",
    "# Inisiasi MultinomialNB\n",
    "mnb = MultinomialNB()\n",
    "\n",
    "# Fit model\n",
    "mnb.fit(X_train, y_train)\n",
    "\n",
    "# Prediksi dengan data training\n",
    "y_pred_train = mnb.predict(X_train)\n",
    "\n",
    "# Evaluasi akurasi data training\n",
    "acc_train = accuracy_score(y_train, y_pred_train)\n",
    "\n",
    "# Prediksi dengan data training\n",
    "y_pred_test = mnb.predict(X_test)\n",
    "\n",
    "# Evaluasi akurasi data training\n",
    "acc_test = accuracy_score(y_test, y_pred_test)\n",
    "\n",
    "# Print hasil evaluasi\n",
    "print(f'Hasil akurasi data train: {acc_train}')\n",
    "print(f'Hasil akurasi data test: {acc_test}')\n"
   ]
  },
  {
   "cell_type": "markdown",
   "metadata": {},
   "source": [
    "# Tugas 2"
   ]
  },
  {
   "cell_type": "code",
   "execution_count": 2,
   "metadata": {},
   "outputs": [
    {
     "name": "stdout",
     "output_type": "stream",
     "text": [
      "Hasil akurasi data train: 0.9842943684092439\n",
      "Hasil akurasi data test: 0.9605381165919282\n"
     ]
    }
   ],
   "source": [
    "import pandas as pd\n",
    "import numpy as np\n",
    "\n",
    "# Read the file spam.csv into a DataFrame df using the read_csv() function.\n",
    "\n",
    "df_2 = pd.read_csv('spam.csv', encoding='latin-1')\n",
    "\n",
    "# drop the unnamed columns\n",
    "df_2 = df_2.drop(df_2.iloc[:,2:], axis=1)\n",
    "\n",
    "df_2.columns = ['label', 'text']\n",
    "\n",
    "df_2.head()\n",
    "\n",
    "# Encode label to a numerical variable\n",
    "\n",
    "df_2['label'] = df_2['label'].map({'ham':0, 'spam':1})\n",
    "\n",
    "\n",
    "from sklearn.model_selection import train_test_split\n",
    "from sklearn.feature_extraction.text import TfidfVectorizer\n",
    "\n",
    "\n",
    "# Split label and data.\n",
    "X_2 = df_2['text']\n",
    "y_2 = df_2['label']\n",
    "\n",
    "X_2_train, X_2_test, y_2_train, y_2_test = train_test_split(X_2, y_2, test_size=0.2, random_state=50)\n",
    "\n",
    "bow = TfidfVectorizer(stop_words='english')\n",
    "\n",
    "X_2_train = bow.fit_transform(X_2_train)\n",
    "\n",
    "X_2_test = bow.transform(X_2_test)\n",
    "\n",
    "# train model \n",
    "\n",
    "from sklearn.naive_bayes import MultinomialNB\n",
    "from sklearn.metrics import accuracy_score\n",
    "\n",
    "# Inisiasi MultinomialNB\n",
    "mnb_2 = MultinomialNB()\n",
    "\n",
    "# Fit model\n",
    "mnb_2.fit(X_2_train, y_2_train)\n",
    "\n",
    "# Prediksi dengan data training\n",
    "y_2_pred_train = mnb_2.predict(X_2_train)\n",
    "\n",
    "# Evaluasi akurasi data training\n",
    "acc_2_train = accuracy_score(y_2_train, y_2_pred_train)\n",
    "\n",
    "# Prediksi dengan data training\n",
    "y_2_pred_test = mnb_2.predict(X_2_test)\n",
    "\n",
    "# Evaluasi akurasi data training\n",
    "acc_2_test = accuracy_score(y_2_test, y_2_pred_test)\n",
    "\n",
    "# Print hasil evaluasi\n",
    "print(f'Hasil akurasi data train: {acc_2_train}')\n",
    "print(f'Hasil akurasi data test: {acc_2_test}')\n"
   ]
  },
  {
   "cell_type": "markdown",
   "metadata": {},
   "source": [
    "# Kesimpulan\n",
    "Pada saat menggunakan **Count Vectorizer** dengan stop_words adalah english, maka hasil akurasi data yang dihasilkan adalah sebagai berikut:\n",
    "    \n",
    "\n",
    "> Hasil akurasi data train: 0.9946152120260264   \n",
    "> Hasil akurasi data test: 0.9829596412556054\n",
    "\n",
    "Sedangkan, ketika menggunakan **TfIdfVectorizer** dengan stop_words english, maka hasil akurasi data yang dihasilkan adalah sebagai berikut:\n",
    "\n",
    "> Hasil akurasi data train: 0.9842943684092439   \n",
    "> Hasil akurasi data test: 0.9605381165919282\n",
    "\n",
    "Sehingga, dapat **disimpulkan** bahwasannya, hasil keakurasian datanya lebih baik ketika menggunakan **Count Vectorizer**\n"
   ]
  },
  {
   "cell_type": "markdown",
   "metadata": {},
   "source": []
  }
 ],
 "metadata": {
  "kernelspec": {
   "display_name": "Python 3.9.12 ('base')",
   "language": "python",
   "name": "python3"
  },
  "language_info": {
   "codemirror_mode": {
    "name": "ipython",
    "version": 3
   },
   "file_extension": ".py",
   "mimetype": "text/x-python",
   "name": "python",
   "nbconvert_exporter": "python",
   "pygments_lexer": "ipython3",
   "version": "3.9.12"
  },
  "orig_nbformat": 4,
  "vscode": {
   "interpreter": {
    "hash": "b5098c0df5c99acdb88cdc552df8c9e7c54175af156df9c04b4c2822924d5f82"
   }
  }
 },
 "nbformat": 4,
 "nbformat_minor": 2
}
